{
 "cells": [
  {
   "cell_type": "code",
   "execution_count": null,
   "metadata": {},
   "outputs": [],
   "source": [
    "# transformar columnas categoricas a numericas\n",
    "\n",
    "# normalizar\n",
    "norm_num = pd.DataFrame(StandardScaler().fit_transform(train._get_numeric_data()), columns=train._get_numeric_data().columns)\n",
    "\n",
    "\n",
    "norm_obj = train.select_dtypes(include='object')\n",
    "\n",
    "norm = pd.concat([norm_num, norm_obj], axis=1)\n",
    "\n",
    "norm.head()"
   ]
  },
  {
   "cell_type": "code",
   "execution_count": null,
   "metadata": {},
   "outputs": [],
   "source": [
    "# label encoder\n",
    "le = LabelEncoder()\n",
    "\n",
    "for c in norm.columns:\n",
    "    \n",
    "    if norm.dtypes[c]==object:\n",
    "        \n",
    "        le.fit(norm[c].astype(str))\n",
    "        \n",
    "        norm[c]=le.transform(norm[c].astype(str))\n",
    "\n",
    "norm.head()"
   ]
  },
  {
   "cell_type": "code",
   "execution_count": null,
   "metadata": {},
   "outputs": [],
   "source": [
    "norm.info()"
   ]
  },
  {
   "cell_type": "code",
   "execution_count": null,
   "metadata": {},
   "outputs": [],
   "source": [
    "# observar correlacion de columnas\n",
    "numeric_columns = norm.select_dtypes(include=['int64', 'float64'])\n",
    "correlation_matrix = numeric_columns.corr()\n",
    "\n",
    "mask=np.triu(np.ones_like(correlation_matrix, dtype=bool))\n",
    "\n",
    "sns.set(style='white')\n",
    "cmap=sns.diverging_palette(0, 10, as_cmap=True)\n",
    "plt.figure(figsize=(15, 10))\n",
    "\n",
    "sns.heatmap(correlation_matrix,\n",
    "            mask=mask,\n",
    "            cmap=cmap,\n",
    "            center=0,\n",
    "            square=True,\n",
    "            annot=True,\n",
    "            linewidths=0.5,\n",
    "            cbar_kws={'shrink': 0.5});"
   ]
  },
  {
   "cell_type": "code",
   "execution_count": null,
   "metadata": {},
   "outputs": [],
   "source": [
    "# eliminar columna \"Screen Size\" al estar correlacionada\n",
    "norm = norm.drop('Screen Size', axis=1)"
   ]
  },
  {
   "cell_type": "code",
   "execution_count": null,
   "metadata": {},
   "outputs": [],
   "source": [
    "# observar correlacion de nuevo\n",
    "numeric_columns = norm.select_dtypes(include=['int64', 'float64'])\n",
    "correlation_matrix = numeric_columns.corr()\n",
    "\n",
    "mask=np.triu(np.ones_like(correlation_matrix, dtype=bool))\n",
    "\n",
    "sns.set(style='white')\n",
    "cmap=sns.diverging_palette(0, 10, as_cmap=True)\n",
    "plt.figure(figsize=(15, 10))\n",
    "\n",
    "sns.heatmap(correlation_matrix,\n",
    "            mask=mask,\n",
    "            cmap=cmap,\n",
    "            center=0,\n",
    "            square=True,\n",
    "            annot=True,\n",
    "            linewidths=0.5,\n",
    "            cbar_kws={'shrink': 0.5});"
   ]
  },
  {
   "cell_type": "code",
   "execution_count": null,
   "metadata": {},
   "outputs": [],
   "source": [
    "norm.info()"
   ]
  },
  {
   "cell_type": "code",
   "execution_count": null,
   "metadata": {},
   "outputs": [],
   "source": [
    "# dividir muestras\n",
    "X = norm.drop('Price', axis=1)\n",
    "y = norm.Price"
   ]
  },
  {
   "cell_type": "code",
   "execution_count": null,
   "metadata": {},
   "outputs": [],
   "source": [
    "X.head()"
   ]
  },
  {
   "cell_type": "code",
   "execution_count": null,
   "metadata": {},
   "outputs": [],
   "source": [
    "y.head()"
   ]
  }
 ],
 "metadata": {
  "language_info": {
   "name": "python"
  },
  "orig_nbformat": 4
 },
 "nbformat": 4,
 "nbformat_minor": 2
}
